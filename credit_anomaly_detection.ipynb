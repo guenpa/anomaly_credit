{
 "cells": [
  {
   "cell_type": "markdown",
   "metadata": {},
   "source": [
    "## Sources\n",
    "https://www.datascience.com/blog/python-anomaly-detection\n",
    "http://scikit-learn.org/stable/modules/outlier_detection.html\n",
    "https://www.kaggle.com/mlg-ulb/creditcardfraud/kernels\n",
    "https://github.com/Vicam/Unsupervised_Anomaly_Detection/blob/master/Anomaly%20detection%2C%20different%20methods%20on%20a%20simple%20example.ipynb\n"
   ]
  },
  {
   "cell_type": "code",
   "execution_count": null,
   "metadata": {},
   "outputs": [],
   "source": [
    "#imports\n",
    "import pandas as pd\n",
    "\n",
    "\n",
    "#load data\n",
    "data = pd.read_csv(\"creditcard.csv\")"
   ]
  },
  {
   "cell_type": "code",
   "execution_count": 5,
   "metadata": {},
   "outputs": [
    {
     "name": "stdout",
     "output_type": "stream",
     "text": [
      "    Time        V1        V2        V3        V4        V5        V6  \\\n",
      "0    0.0 -1.359807 -0.072781  2.536347  1.378155 -0.338321  0.462388   \n",
      "1    0.0  1.191857  0.266151  0.166480  0.448154  0.060018 -0.082361   \n",
      "2    1.0 -1.358354 -1.340163  1.773209  0.379780 -0.503198  1.800499   \n",
      "3    1.0 -0.966272 -0.185226  1.792993 -0.863291 -0.010309  1.247203   \n",
      "4    2.0 -1.158233  0.877737  1.548718  0.403034 -0.407193  0.095921   \n",
      "5    2.0 -0.425966  0.960523  1.141109 -0.168252  0.420987 -0.029728   \n",
      "6    4.0  1.229658  0.141004  0.045371  1.202613  0.191881  0.272708   \n",
      "7    7.0 -0.644269  1.417964  1.074380 -0.492199  0.948934  0.428118   \n",
      "8    7.0 -0.894286  0.286157 -0.113192 -0.271526  2.669599  3.721818   \n",
      "9    9.0 -0.338262  1.119593  1.044367 -0.222187  0.499361 -0.246761   \n",
      "10  10.0  1.449044 -1.176339  0.913860 -1.375667 -1.971383 -0.629152   \n",
      "11  10.0  0.384978  0.616109 -0.874300 -0.094019  2.924584  3.317027   \n",
      "12  10.0  1.249999 -1.221637  0.383930 -1.234899 -1.485419 -0.753230   \n",
      "13  11.0  1.069374  0.287722  0.828613  2.712520 -0.178398  0.337544   \n",
      "14  12.0 -2.791855 -0.327771  1.641750  1.767473 -0.136588  0.807596   \n",
      "15  12.0 -0.752417  0.345485  2.057323 -1.468643 -1.158394 -0.077850   \n",
      "16  12.0  1.103215 -0.040296  1.267332  1.289091 -0.735997  0.288069   \n",
      "17  13.0 -0.436905  0.918966  0.924591 -0.727219  0.915679 -0.127867   \n",
      "18  14.0 -5.401258 -5.450148  1.186305  1.736239  3.049106 -1.763406   \n",
      "19  15.0  1.492936 -1.029346  0.454795 -1.438026 -1.555434 -0.720961   \n",
      "20  16.0  0.694885 -1.361819  1.029221  0.834159 -1.191209  1.309109   \n",
      "21  17.0  0.962496  0.328461 -0.171479  2.109204  1.129566  1.696038   \n",
      "22  18.0  1.166616  0.502120 -0.067300  2.261569  0.428804  0.089474   \n",
      "23  18.0  0.247491  0.277666  1.185471 -0.092603 -1.314394 -0.150116   \n",
      "24  22.0 -1.946525 -0.044901 -0.405570 -1.013057  2.941968  2.955053   \n",
      "\n",
      "          V7        V8        V9  ...         V21       V22       V23  \\\n",
      "0   0.239599  0.098698  0.363787  ...   -0.018307  0.277838 -0.110474   \n",
      "1  -0.078803  0.085102 -0.255425  ...   -0.225775 -0.638672  0.101288   \n",
      "2   0.791461  0.247676 -1.514654  ...    0.247998  0.771679  0.909412   \n",
      "3   0.237609  0.377436 -1.387024  ...   -0.108300  0.005274 -0.190321   \n",
      "4   0.592941 -0.270533  0.817739  ...   -0.009431  0.798278 -0.137458   \n",
      "5   0.476201  0.260314 -0.568671  ...   -0.208254 -0.559825 -0.026398   \n",
      "6  -0.005159  0.081213  0.464960  ...   -0.167716 -0.270710 -0.154104   \n",
      "7   1.120631 -3.807864  0.615375  ...    1.943465 -1.015455  0.057504   \n",
      "8   0.370145  0.851084 -0.392048  ...   -0.073425 -0.268092 -0.204233   \n",
      "9   0.651583  0.069539 -0.736727  ...   -0.246914 -0.633753 -0.120794   \n",
      "10 -1.423236  0.048456 -1.720408  ...   -0.009302  0.313894  0.027740   \n",
      "11  0.470455  0.538247 -0.558895  ...    0.049924  0.238422  0.009130   \n",
      "12 -0.689405 -0.227487 -2.094011  ...   -0.231809 -0.483285  0.084668   \n",
      "13 -0.096717  0.115982 -0.221083  ...   -0.036876  0.074412 -0.071407   \n",
      "14 -0.422911 -1.907107  0.755713  ...    1.151663  0.222182  1.020586   \n",
      "15 -0.608581  0.003603 -0.436167  ...    0.499625  1.353650 -0.256573   \n",
      "16 -0.586057  0.189380  0.782333  ...   -0.024612  0.196002  0.013802   \n",
      "17  0.707642  0.087962 -0.665271  ...   -0.194796 -0.672638 -0.156858   \n",
      "18 -1.559738  0.160842  1.233090  ...   -0.503600  0.984460  2.458589   \n",
      "19 -1.080664 -0.053127 -1.978682  ...   -0.177650 -0.175074  0.040002   \n",
      "20 -0.878586  0.445290 -0.446196  ...   -0.295583 -0.571955 -0.050881   \n",
      "21  0.107712  0.521502 -1.191311  ...    0.143997  0.402492 -0.048508   \n",
      "22  0.241147  0.138082 -0.989162  ...    0.018702 -0.061972 -0.103855   \n",
      "23 -0.946365 -1.617935  1.544071  ...    1.650180  0.200454 -0.185353   \n",
      "24 -0.063063  0.855546  0.049967  ...   -0.579526 -0.799229  0.870300   \n",
      "\n",
      "         V24       V25       V26       V27       V28  Amount  Class  \n",
      "0   0.066928  0.128539 -0.189115  0.133558 -0.021053  149.62      0  \n",
      "1  -0.339846  0.167170  0.125895 -0.008983  0.014724    2.69      0  \n",
      "2  -0.689281 -0.327642 -0.139097 -0.055353 -0.059752  378.66      0  \n",
      "3  -1.175575  0.647376 -0.221929  0.062723  0.061458  123.50      0  \n",
      "4   0.141267 -0.206010  0.502292  0.219422  0.215153   69.99      0  \n",
      "5  -0.371427 -0.232794  0.105915  0.253844  0.081080    3.67      0  \n",
      "6  -0.780055  0.750137 -0.257237  0.034507  0.005168    4.99      0  \n",
      "7  -0.649709 -0.415267 -0.051634 -1.206921 -1.085339   40.80      0  \n",
      "8   1.011592  0.373205 -0.384157  0.011747  0.142404   93.20      0  \n",
      "9  -0.385050 -0.069733  0.094199  0.246219  0.083076    3.68      0  \n",
      "10  0.500512  0.251367 -0.129478  0.042850  0.016253    7.80      0  \n",
      "11  0.996710 -0.767315 -0.492208  0.042472 -0.054337    9.99      0  \n",
      "12  0.392831  0.161135 -0.354990  0.026416  0.042422  121.50      0  \n",
      "13  0.104744  0.548265  0.104094  0.021491  0.021293   27.50      0  \n",
      "14  0.028317 -0.232746 -0.235557 -0.164778 -0.030154   58.80      0  \n",
      "15 -0.065084 -0.039124 -0.087086 -0.180998  0.129394   15.99      0  \n",
      "16  0.103758  0.364298 -0.382261  0.092809  0.037051   12.99      0  \n",
      "17 -0.888386 -0.342413 -0.049027  0.079692  0.131024    0.89      0  \n",
      "18  0.042119 -0.481631 -0.621272  0.392053  0.949594   46.80      0  \n",
      "19  0.295814  0.332931 -0.220385  0.022298  0.007602    5.00      0  \n",
      "20 -0.304215  0.072001 -0.422234  0.086553  0.063499  231.71      0  \n",
      "21 -1.371866  0.390814  0.199964  0.016371 -0.014605   34.09      0  \n",
      "22 -0.370415  0.603200  0.108556 -0.040521 -0.011418    2.28      0  \n",
      "23  0.423073  0.820591 -0.227632  0.336634  0.250475   22.75      0  \n",
      "24  0.983421  0.321201  0.149650  0.707519  0.014600    0.89      0  \n",
      "\n",
      "[25 rows x 31 columns]\n",
      "<class 'pandas.core.frame.DataFrame'>\n",
      "RangeIndex: 284807 entries, 0 to 284806\n",
      "Data columns (total 31 columns):\n",
      "Time      284807 non-null float64\n",
      "V1        284807 non-null float64\n",
      "V2        284807 non-null float64\n",
      "V3        284807 non-null float64\n",
      "V4        284807 non-null float64\n",
      "V5        284807 non-null float64\n",
      "V6        284807 non-null float64\n",
      "V7        284807 non-null float64\n",
      "V8        284807 non-null float64\n",
      "V9        284807 non-null float64\n",
      "V10       284807 non-null float64\n",
      "V11       284807 non-null float64\n",
      "V12       284807 non-null float64\n",
      "V13       284807 non-null float64\n",
      "V14       284807 non-null float64\n",
      "V15       284807 non-null float64\n",
      "V16       284807 non-null float64\n",
      "V17       284807 non-null float64\n",
      "V18       284807 non-null float64\n",
      "V19       284807 non-null float64\n",
      "V20       284807 non-null float64\n",
      "V21       284807 non-null float64\n",
      "V22       284807 non-null float64\n",
      "V23       284807 non-null float64\n",
      "V24       284807 non-null float64\n",
      "V25       284807 non-null float64\n",
      "V26       284807 non-null float64\n",
      "V27       284807 non-null float64\n",
      "V28       284807 non-null float64\n",
      "Amount    284807 non-null float64\n",
      "Class     284807 non-null int64\n",
      "dtypes: float64(30), int64(1)\n",
      "memory usage: 67.4 MB\n"
     ]
    },
    {
     "ename": "NameError",
     "evalue": "name 'plot' is not defined",
     "output_type": "error",
     "traceback": [
      "\u001b[0;31m---------------------------------------------------------------------------\u001b[0m",
      "\u001b[0;31mNameError\u001b[0m                                 Traceback (most recent call last)",
      "\u001b[0;32m<ipython-input-5-089d783b4b3d>\u001b[0m in \u001b[0;36m<module>\u001b[0;34m()\u001b[0m\n\u001b[1;32m      4\u001b[0m \u001b[0mdata\u001b[0m\u001b[0;34m.\u001b[0m\u001b[0mdescribe\u001b[0m\u001b[0;34m(\u001b[0m\u001b[0;34m)\u001b[0m\u001b[0;34m\u001b[0m\u001b[0m\n\u001b[1;32m      5\u001b[0m \u001b[0mdata\u001b[0m\u001b[0;34m.\u001b[0m\u001b[0mplot\u001b[0m\u001b[0;34m(\u001b[0m\u001b[0mx\u001b[0m\u001b[0;34m=\u001b[0m\u001b[0;34m'Time'\u001b[0m\u001b[0;34m,\u001b[0m \u001b[0my\u001b[0m\u001b[0;34m=\u001b[0m\u001b[0;34m'Amount'\u001b[0m\u001b[0;34m)\u001b[0m\u001b[0;34m\u001b[0m\u001b[0m\n\u001b[0;32m----> 6\u001b[0;31m \u001b[0mplot\u001b[0m\u001b[0;34m.\u001b[0m\u001b[0mshow\u001b[0m\u001b[0;34m(\u001b[0m\u001b[0;34m)\u001b[0m\u001b[0;34m\u001b[0m\u001b[0m\n\u001b[0m",
      "\u001b[0;31mNameError\u001b[0m: name 'plot' is not defined"
     ]
    },
    {
     "data": {
      "image/png": "[encoded data removed]",
      "text/plain": [
       "<Figure size 432x288 with 1 Axes>"
      ]
     },
     "metadata": {},
     "output_type": "display_data"
    }
   ],
   "source": [
    "#inital exploration of data\n",
    "print(data.head(25))\n",
    "data.info() #no nulls, time coded as float as it's the seconds from hour 0\n",
    "data.describe()\n",
    "data.plot(x='Time', y='Amount')\n"
   ]
  },
  {
   "cell_type": "code",
   "execution_count": null,
   "metadata": {},
   "outputs": [],
   "source": []
  }
 ],
 "metadata": {
  "kernelspec": {
   "display_name": "Python 3",
   "language": "python",
   "name": "python3"
  },
  "language_info": {
   "codemirror_mode": {
    "name": "ipython",
    "version": 3
   },
   "file_extension": ".py",
   "mimetype": "text/x-python",
   "name": "python",
   "nbconvert_exporter": "python",
   "pygments_lexer": "ipython3",
   "version": "3.6.5"
  }
 },
 "nbformat": 4,
 "nbformat_minor": 2
}
